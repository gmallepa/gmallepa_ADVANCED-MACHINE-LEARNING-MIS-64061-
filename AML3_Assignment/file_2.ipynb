{
  "nbformat": 4,
  "nbformat_minor": 0,
  "metadata": {
    "colab": {
      "provenance": []
    },
    "kernelspec": {
      "name": "python3",
      "display_name": "Python 3"
    },
    "language_info": {
      "name": "python"
    },
    "accelerator": "GPU",
    "gpuClass": "standard"
  },
  "cells": [
    {
      "cell_type": "code",
      "source": [
        "!unzip -qq dataset_C_Vs_D.zip"
      ],
      "metadata": {
        "id": "D5osViivQGiM"
      },
      "execution_count": 1,
      "outputs": []
    },
    {
      "cell_type": "code",
      "source": [
        "import os, shutil, pathlib\n",
        "\n",
        "original_dir = pathlib.Path(\"./dataset_C_Vs_D/train/\")\n",
        "new_base_dir = pathlib.Path(\"./cats_vs_dogs2000\")\n",
        "\n",
        "def make_subset(subset_name, start_index, end_index):\n",
        "    for category in (\"cat\", \"dog\"):\n",
        "        dir = new_base_dir / subset_name / category\n",
        "        os.makedirs(dir)\n",
        "        fnames = [f\"{category}.{i}.jpg\" for i in range(start_index, end_index)]\n",
        "        for fname in fnames:\n",
        "            shutil.copyfile(src=original_dir / fname,\n",
        "                            dst=dir / fname)\n",
        "\n",
        "make_subset(\"train\", start_index=0, end_index=2000)\n",
        "make_subset(\"validation\", start_index=2000, end_index=2500)\n",
        "make_subset(\"test\", start_index=2500, end_index=3000)"
      ],
      "metadata": {
        "id": "Ang6IFCvL-59"
      },
      "execution_count": 22,
      "outputs": []
    },
    {
      "cell_type": "code",
      "source": [
        "from tensorflow.keras.utils import image_dataset_from_directory\n",
        "\n",
        "train_dataset = image_dataset_from_directory(\n",
        "    new_base_dir / \"train\",\n",
        "    image_size=(180, 180),\n",
        "    batch_size=32)\n",
        "validation_dataset = image_dataset_from_directory(\n",
        "    new_base_dir / \"validation\",\n",
        "    image_size=(180, 180),\n",
        "    batch_size=32)\n",
        "test_dataset = image_dataset_from_directory(\n",
        "    new_base_dir / \"test\",\n",
        "    image_size=(180, 180),\n",
        "    batch_size=32)"
      ],
      "metadata": {
        "colab": {
          "base_uri": "https://localhost:8080/"
        },
        "id": "TghIdpKVMVqY",
        "outputId": "e782a0d6-66ec-42ba-ca11-d0f55057a822"
      },
      "execution_count": 23,
      "outputs": [
        {
          "output_type": "stream",
          "name": "stdout",
          "text": [
            "Found 4000 files belonging to 2 classes.\n",
            "Found 1000 files belonging to 2 classes.\n",
            "Found 1000 files belonging to 2 classes.\n"
          ]
        }
      ]
    },
    {
      "cell_type": "code",
      "source": [
        "import numpy as np\n",
        "import tensorflow as tf\n",
        "random_numbers = np.random.normal(size=(1000, 16))\n",
        "dataset = tf.data.Dataset.from_tensor_slices(random_numbers)"
      ],
      "metadata": {
        "id": "ojyDws4IMV0Q"
      },
      "execution_count": 24,
      "outputs": []
    },
    {
      "cell_type": "code",
      "source": [
        "for i, element in enumerate(dataset):\n",
        "    print(element.shape)\n",
        "    if i >= 2:\n",
        "        break"
      ],
      "metadata": {
        "id": "8fGyrEuWMV3w",
        "colab": {
          "base_uri": "https://localhost:8080/"
        },
        "outputId": "ee167a2f-d837-4560-b356-acca17a2994e"
      },
      "execution_count": 25,
      "outputs": [
        {
          "output_type": "stream",
          "name": "stdout",
          "text": [
            "(16,)\n",
            "(16,)\n",
            "(16,)\n"
          ]
        }
      ]
    },
    {
      "cell_type": "code",
      "source": [
        "reshaped_dataset = dataset.map(lambda x: tf.reshape(x, (4, 4)))\n",
        "for i, element in enumerate(reshaped_dataset):\n",
        "    print(element.shape)\n",
        "    if i >= 2:\n",
        "        break"
      ],
      "metadata": {
        "id": "kgy5aFGkMV7R",
        "colab": {
          "base_uri": "https://localhost:8080/"
        },
        "outputId": "a1563207-78c8-4b42-8cbf-b7ee259c7646"
      },
      "execution_count": 26,
      "outputs": [
        {
          "output_type": "stream",
          "name": "stdout",
          "text": [
            "(4, 4)\n",
            "(4, 4)\n",
            "(4, 4)\n"
          ]
        }
      ]
    },
    {
      "cell_type": "code",
      "source": [
        "for data_batch, labels_batch in train_dataset:\n",
        "    print(\"data batch shape:\", data_batch.shape)\n",
        "    print(\"labels batch shape:\", labels_batch.shape)\n",
        "    break\n"
      ],
      "metadata": {
        "id": "dN44YFu6MV-O",
        "colab": {
          "base_uri": "https://localhost:8080/"
        },
        "outputId": "b65c322c-3945-46f5-d0f1-ff4cf9203c10"
      },
      "execution_count": 27,
      "outputs": [
        {
          "output_type": "stream",
          "name": "stdout",
          "text": [
            "data batch shape: (32, 180, 180, 3)\n",
            "labels batch shape: (32,)\n"
          ]
        }
      ]
    },
    {
      "cell_type": "code",
      "source": [
        "from tensorflow import keras\n",
        "from tensorflow.keras import layers\n",
        "\n",
        "inputs = keras.Input(shape=(180, 180, 3))\n",
        "x = layers.Rescaling(1./255)(inputs)\n",
        "x = layers.Conv2D(filters=32, kernel_size=3, activation=\"relu\")(x)\n",
        "x = layers.MaxPooling2D(pool_size=2)(x)\n",
        "x = layers.Conv2D(filters=64, kernel_size=3, activation=\"relu\")(x)\n",
        "x = layers.MaxPooling2D(pool_size=2)(x)\n",
        "x = layers.Conv2D(filters=128, kernel_size=3, activation=\"relu\")(x)\n",
        "x = layers.MaxPooling2D(pool_size=2)(x)\n",
        "x = layers.Conv2D(filters=256, kernel_size=3, activation=\"relu\")(x)\n",
        "x = layers.MaxPooling2D(pool_size=2)(x)\n",
        "x = layers.Conv2D(filters=256, kernel_size=3, activation=\"relu\")(x)\n",
        "x = layers.Flatten()(x)\n",
        "outputs = layers.Dense(1, activation=\"sigmoid\")(x)\n",
        "model = keras.Model(inputs=inputs, outputs=outputs)"
      ],
      "metadata": {
        "id": "gXrpBgmfMWDk"
      },
      "execution_count": 28,
      "outputs": []
    },
    {
      "cell_type": "code",
      "source": [
        "model.compile(loss=\"binary_crossentropy\",\n",
        "              optimizer=\"Adam\",\n",
        "              metrics=[\"accuracy\"])"
      ],
      "metadata": {
        "id": "3r9aumhgMWGg"
      },
      "execution_count": 29,
      "outputs": []
    },
    {
      "cell_type": "code",
      "source": [
        "callbacks = [\n",
        "    keras.callbacks.ModelCheckpoint(\n",
        "        filepath=\"convnet_from_scratch.keras\",\n",
        "        save_best_only=True,\n",
        "        monitor=\"val_loss\")\n",
        "]\n",
        "history = model.fit(\n",
        "    train_dataset,\n",
        "    epochs=30,\n",
        "    validation_data=validation_dataset,\n",
        "    callbacks=callbacks)"
      ],
      "metadata": {
        "id": "q3CnuqYFMrxX",
        "colab": {
          "base_uri": "https://localhost:8080/"
        },
        "outputId": "e85628a6-1599-4159-db39-3fc661d6155b"
      },
      "execution_count": 30,
      "outputs": [
        {
          "output_type": "stream",
          "name": "stdout",
          "text": [
            "Epoch 1/30\n",
            "125/125 [==============================] - 12s 72ms/step - loss: 0.6934 - accuracy: 0.5145 - val_loss: 0.6883 - val_accuracy: 0.5380\n",
            "Epoch 2/30\n",
            "125/125 [==============================] - 8s 59ms/step - loss: 0.6715 - accuracy: 0.5782 - val_loss: 0.6177 - val_accuracy: 0.6660\n",
            "Epoch 3/30\n",
            "125/125 [==============================] - 9s 65ms/step - loss: 0.6304 - accuracy: 0.6432 - val_loss: 0.6051 - val_accuracy: 0.6840\n",
            "Epoch 4/30\n",
            "125/125 [==============================] - 9s 68ms/step - loss: 0.5935 - accuracy: 0.6827 - val_loss: 0.5751 - val_accuracy: 0.7130\n",
            "Epoch 5/30\n",
            "125/125 [==============================] - 8s 59ms/step - loss: 0.5611 - accuracy: 0.7150 - val_loss: 0.5661 - val_accuracy: 0.7310\n",
            "Epoch 6/30\n",
            "125/125 [==============================] - 9s 68ms/step - loss: 0.5166 - accuracy: 0.7437 - val_loss: 0.5296 - val_accuracy: 0.7470\n",
            "Epoch 7/30\n",
            "125/125 [==============================] - 9s 67ms/step - loss: 0.4357 - accuracy: 0.7983 - val_loss: 0.5022 - val_accuracy: 0.7810\n",
            "Epoch 8/30\n",
            "125/125 [==============================] - 7s 57ms/step - loss: 0.3628 - accuracy: 0.8397 - val_loss: 0.5740 - val_accuracy: 0.7450\n",
            "Epoch 9/30\n",
            "125/125 [==============================] - 9s 68ms/step - loss: 0.2925 - accuracy: 0.8775 - val_loss: 0.5825 - val_accuracy: 0.7670\n",
            "Epoch 10/30\n",
            "125/125 [==============================] - 9s 69ms/step - loss: 0.2280 - accuracy: 0.9013 - val_loss: 0.6579 - val_accuracy: 0.7520\n",
            "Epoch 11/30\n",
            "125/125 [==============================] - 7s 55ms/step - loss: 0.1695 - accuracy: 0.9333 - val_loss: 0.8075 - val_accuracy: 0.7600\n",
            "Epoch 12/30\n",
            "125/125 [==============================] - 9s 68ms/step - loss: 0.1130 - accuracy: 0.9557 - val_loss: 0.8982 - val_accuracy: 0.7240\n",
            "Epoch 13/30\n",
            "125/125 [==============================] - 9s 68ms/step - loss: 0.0832 - accuracy: 0.9712 - val_loss: 0.9709 - val_accuracy: 0.7650\n",
            "Epoch 14/30\n",
            "125/125 [==============================] - 8s 58ms/step - loss: 0.0399 - accuracy: 0.9872 - val_loss: 1.1306 - val_accuracy: 0.7680\n",
            "Epoch 15/30\n",
            "125/125 [==============================] - 9s 68ms/step - loss: 0.0384 - accuracy: 0.9860 - val_loss: 1.0835 - val_accuracy: 0.7550\n",
            "Epoch 16/30\n",
            "125/125 [==============================] - 8s 66ms/step - loss: 0.0286 - accuracy: 0.9910 - val_loss: 1.2115 - val_accuracy: 0.7690\n",
            "Epoch 17/30\n",
            "125/125 [==============================] - 7s 57ms/step - loss: 0.0200 - accuracy: 0.9942 - val_loss: 1.3270 - val_accuracy: 0.7760\n",
            "Epoch 18/30\n",
            "125/125 [==============================] - 9s 66ms/step - loss: 0.0572 - accuracy: 0.9793 - val_loss: 1.2067 - val_accuracy: 0.7640\n",
            "Epoch 19/30\n",
            "125/125 [==============================] - 9s 72ms/step - loss: 0.0219 - accuracy: 0.9927 - val_loss: 1.2706 - val_accuracy: 0.7680\n",
            "Epoch 20/30\n",
            "125/125 [==============================] - 8s 62ms/step - loss: 0.0608 - accuracy: 0.9797 - val_loss: 1.1509 - val_accuracy: 0.7560\n",
            "Epoch 21/30\n",
            "125/125 [==============================] - 9s 69ms/step - loss: 0.0126 - accuracy: 0.9962 - val_loss: 1.2017 - val_accuracy: 0.7720\n",
            "Epoch 22/30\n",
            "125/125 [==============================] - 9s 69ms/step - loss: 0.0035 - accuracy: 0.9995 - val_loss: 1.3266 - val_accuracy: 0.7750\n",
            "Epoch 23/30\n",
            "125/125 [==============================] - 9s 71ms/step - loss: 9.4642e-04 - accuracy: 1.0000 - val_loss: 1.3531 - val_accuracy: 0.7820\n",
            "Epoch 24/30\n",
            "125/125 [==============================] - 8s 60ms/step - loss: 3.3853e-04 - accuracy: 1.0000 - val_loss: 1.3990 - val_accuracy: 0.7810\n",
            "Epoch 25/30\n",
            "125/125 [==============================] - 9s 71ms/step - loss: 2.2375e-04 - accuracy: 1.0000 - val_loss: 1.4152 - val_accuracy: 0.7820\n",
            "Epoch 26/30\n",
            "125/125 [==============================] - 12s 92ms/step - loss: 1.6797e-04 - accuracy: 1.0000 - val_loss: 1.4570 - val_accuracy: 0.7790\n",
            "Epoch 27/30\n",
            "125/125 [==============================] - 8s 60ms/step - loss: 1.2108e-04 - accuracy: 1.0000 - val_loss: 1.5244 - val_accuracy: 0.7840\n",
            "Epoch 28/30\n",
            "125/125 [==============================] - 9s 65ms/step - loss: 8.8556e-05 - accuracy: 1.0000 - val_loss: 1.5665 - val_accuracy: 0.7820\n",
            "Epoch 29/30\n",
            "125/125 [==============================] - 8s 66ms/step - loss: 6.4597e-05 - accuracy: 1.0000 - val_loss: 1.6100 - val_accuracy: 0.7870\n",
            "Epoch 30/30\n",
            "125/125 [==============================] - 8s 59ms/step - loss: 4.9571e-05 - accuracy: 1.0000 - val_loss: 1.6832 - val_accuracy: 0.7940\n"
          ]
        }
      ]
    },
    {
      "cell_type": "code",
      "source": [
        "import matplotlib.pyplot as plt\n",
        "accuracy = history.history[\"accuracy\"]\n",
        "val_accuracy = history.history[\"val_accuracy\"]\n",
        "loss = history.history[\"loss\"]\n",
        "val_loss = history.history[\"val_loss\"]\n",
        "epochs = range(1, len(accuracy) + 1)\n",
        "plt.plot(epochs, accuracy, \"bo\", label=\"Training accuracy\")\n",
        "plt.plot(epochs, val_accuracy, \"b\", label=\"Validation accuracy\")\n",
        "plt.title(\"Training and validation accuracy\")\n",
        "plt.legend()\n",
        "plt.figure()\n",
        "plt.plot(epochs, loss, \"bo\", label=\"Training loss\")\n",
        "plt.plot(epochs, val_loss, \"b\", label=\"Validation loss\")\n",
        "plt.title(\"Training and validation loss\")\n",
        "plt.legend()\n",
        "plt.show()"
      ],
      "metadata": {
        "id": "rjSDdlmPMr0U"
      },
      "execution_count": null,
      "outputs": []
    },
    {
      "cell_type": "code",
      "source": [
        "test_model = keras.models.load_model(\"convnet_from_scratch.keras\")\n",
        "test_loss, test_acc = test_model.evaluate(test_dataset)\n",
        "print(f\"Test accuracy: {test_acc:.3f}\")"
      ],
      "metadata": {
        "id": "uLQHqsr-Mr3k"
      },
      "execution_count": null,
      "outputs": []
    },
    {
      "cell_type": "code",
      "source": [
        "data_augmentation = keras.Sequential(\n",
        "    [\n",
        "        layers.RandomFlip(\"horizontal\"),\n",
        "        layers.RandomRotation(0.1),\n",
        "        layers.RandomZoom(0.2),\n",
        "    ]\n",
        ")"
      ],
      "metadata": {
        "id": "nR17duoFMr7m"
      },
      "execution_count": null,
      "outputs": []
    },
    {
      "cell_type": "code",
      "source": [
        "plt.figure(figsize=(10, 10))\n",
        "for images, _ in train_dataset.take(1):\n",
        "    for i in range(9):\n",
        "        augmented_images = data_augmentation(images)\n",
        "        ax = plt.subplot(3, 3, i + 1)\n",
        "        plt.imshow(augmented_images[0].numpy().astype(\"uint8\"))\n",
        "        plt.axis(\"off\")"
      ],
      "metadata": {
        "id": "9KTzIfCjMsBh"
      },
      "execution_count": null,
      "outputs": []
    },
    {
      "cell_type": "code",
      "source": [
        "inputs = keras.Input(shape=(180, 180, 3))\n",
        "x = data_augmentation(inputs)\n",
        "x = layers.Rescaling(1./255)(x)\n",
        "x = layers.Conv2D(filters=32, kernel_size=3, activation=\"relu\")(x)\n",
        "x = layers.MaxPooling2D(pool_size=2)(x)\n",
        "x = layers.Conv2D(filters=64, kernel_size=3, activation=\"relu\")(x)\n",
        "x = layers.MaxPooling2D(pool_size=2)(x)\n",
        "x = layers.Conv2D(filters=128, kernel_size=3, activation=\"relu\")(x)\n",
        "x = layers.MaxPooling2D(pool_size=2)(x)\n",
        "x = layers.Conv2D(filters=256, kernel_size=3, activation=\"relu\")(x)\n",
        "x = layers.MaxPooling2D(pool_size=2)(x)\n",
        "x = layers.Conv2D(filters=256, kernel_size=3, activation=\"relu\")(x)\n",
        "x = layers.Flatten()(x)\n",
        "x = layers.Dropout(0.5)(x)\n",
        "outputs = layers.Dense(1, activation=\"sigmoid\")(x)\n",
        "model = keras.Model(inputs=inputs, outputs=outputs)\n",
        "\n",
        "model.compile(loss=\"binary_crossentropy\",\n",
        "              optimizer=\"Adam\",\n",
        "              metrics=[\"accuracy\"])"
      ],
      "metadata": {
        "id": "HIerHGTJMsI-"
      },
      "execution_count": null,
      "outputs": []
    },
    {
      "cell_type": "code",
      "source": [
        "callbacks = [\n",
        "    keras.callbacks.ModelCheckpoint(\n",
        "        filepath=\"convnet_from_scratch_with_augmentation.keras\",\n",
        "        save_best_only=True,\n",
        "        monitor=\"val_loss\")\n",
        "]\n",
        "history = model.fit(\n",
        "    train_dataset,\n",
        "    epochs=100,\n",
        "    validation_data=validation_dataset,\n",
        "    callbacks=callbacks)"
      ],
      "metadata": {
        "id": "aiJXoOtjM3lh",
        "colab": {
          "base_uri": "https://localhost:8080/"
        },
        "outputId": "ad8ef34b-5741-4505-bf37-9a53d30c3a7e"
      },
      "execution_count": 18,
      "outputs": [
        {
          "output_type": "stream",
          "name": "stdout",
          "text": [
            "Epoch 1/100\n",
            "63/63 [==============================] - 7s 69ms/step - loss: 0.6944 - accuracy: 0.5195 - val_loss: 0.6921 - val_accuracy: 0.5000\n",
            "Epoch 2/100\n",
            "63/63 [==============================] - 6s 87ms/step - loss: 0.6892 - accuracy: 0.5330 - val_loss: 0.7184 - val_accuracy: 0.5470\n",
            "Epoch 3/100\n",
            "63/63 [==============================] - 4s 66ms/step - loss: 0.6944 - accuracy: 0.5125 - val_loss: 0.6925 - val_accuracy: 0.5000\n",
            "Epoch 4/100\n",
            "63/63 [==============================] - 5s 76ms/step - loss: 0.6937 - accuracy: 0.5190 - val_loss: 0.6922 - val_accuracy: 0.5680\n",
            "Epoch 5/100\n",
            "63/63 [==============================] - 5s 70ms/step - loss: 0.6920 - accuracy: 0.5105 - val_loss: 0.6880 - val_accuracy: 0.5410\n",
            "Epoch 6/100\n",
            "63/63 [==============================] - 5s 67ms/step - loss: 0.6909 - accuracy: 0.5390 - val_loss: 0.6743 - val_accuracy: 0.6070\n",
            "Epoch 7/100\n",
            "63/63 [==============================] - 6s 89ms/step - loss: 0.6853 - accuracy: 0.5320 - val_loss: 0.6817 - val_accuracy: 0.4960\n",
            "Epoch 8/100\n",
            "63/63 [==============================] - 5s 68ms/step - loss: 0.6871 - accuracy: 0.5190 - val_loss: 0.6833 - val_accuracy: 0.5550\n",
            "Epoch 9/100\n",
            "63/63 [==============================] - 5s 69ms/step - loss: 0.6823 - accuracy: 0.5615 - val_loss: 0.6551 - val_accuracy: 0.6080\n",
            "Epoch 10/100\n",
            "63/63 [==============================] - 5s 73ms/step - loss: 0.6623 - accuracy: 0.6150 - val_loss: 0.6171 - val_accuracy: 0.6460\n",
            "Epoch 11/100\n",
            "63/63 [==============================] - 6s 84ms/step - loss: 0.6430 - accuracy: 0.6450 - val_loss: 0.6412 - val_accuracy: 0.6170\n",
            "Epoch 12/100\n",
            "63/63 [==============================] - 5s 69ms/step - loss: 0.6481 - accuracy: 0.6230 - val_loss: 0.6384 - val_accuracy: 0.6310\n",
            "Epoch 13/100\n",
            "63/63 [==============================] - 5s 71ms/step - loss: 0.6389 - accuracy: 0.6420 - val_loss: 0.5960 - val_accuracy: 0.6880\n",
            "Epoch 14/100\n",
            "63/63 [==============================] - 5s 72ms/step - loss: 0.6098 - accuracy: 0.6775 - val_loss: 0.6401 - val_accuracy: 0.6290\n",
            "Epoch 15/100\n",
            "63/63 [==============================] - 5s 82ms/step - loss: 0.5962 - accuracy: 0.6805 - val_loss: 0.5822 - val_accuracy: 0.6830\n",
            "Epoch 16/100\n",
            "63/63 [==============================] - 5s 80ms/step - loss: 0.5900 - accuracy: 0.6855 - val_loss: 0.5829 - val_accuracy: 0.7020\n",
            "Epoch 17/100\n",
            "63/63 [==============================] - 5s 69ms/step - loss: 0.5735 - accuracy: 0.7055 - val_loss: 0.5693 - val_accuracy: 0.6990\n",
            "Epoch 18/100\n",
            "63/63 [==============================] - 4s 68ms/step - loss: 0.5712 - accuracy: 0.7005 - val_loss: 0.5718 - val_accuracy: 0.6940\n",
            "Epoch 19/100\n",
            "63/63 [==============================] - 5s 79ms/step - loss: 0.5264 - accuracy: 0.7390 - val_loss: 0.5313 - val_accuracy: 0.7300\n",
            "Epoch 20/100\n",
            "63/63 [==============================] - 5s 68ms/step - loss: 0.5410 - accuracy: 0.7205 - val_loss: 0.5418 - val_accuracy: 0.7300\n",
            "Epoch 21/100\n",
            "63/63 [==============================] - 5s 80ms/step - loss: 0.5417 - accuracy: 0.7260 - val_loss: 0.5345 - val_accuracy: 0.7380\n",
            "Epoch 22/100\n",
            "63/63 [==============================] - 5s 69ms/step - loss: 0.5319 - accuracy: 0.7380 - val_loss: 0.5838 - val_accuracy: 0.7100\n",
            "Epoch 23/100\n",
            "63/63 [==============================] - 5s 77ms/step - loss: 0.5046 - accuracy: 0.7555 - val_loss: 0.5205 - val_accuracy: 0.7380\n",
            "Epoch 24/100\n",
            "63/63 [==============================] - 5s 69ms/step - loss: 0.5042 - accuracy: 0.7550 - val_loss: 0.5242 - val_accuracy: 0.7230\n",
            "Epoch 25/100\n",
            "63/63 [==============================] - 5s 68ms/step - loss: 0.5140 - accuracy: 0.7545 - val_loss: 0.5187 - val_accuracy: 0.7500\n",
            "Epoch 26/100\n",
            "63/63 [==============================] - 5s 81ms/step - loss: 0.4945 - accuracy: 0.7580 - val_loss: 0.5076 - val_accuracy: 0.7460\n",
            "Epoch 27/100\n",
            "63/63 [==============================] - 5s 79ms/step - loss: 0.4849 - accuracy: 0.7635 - val_loss: 0.5345 - val_accuracy: 0.7390\n",
            "Epoch 28/100\n",
            "63/63 [==============================] - 5s 73ms/step - loss: 0.4787 - accuracy: 0.7750 - val_loss: 0.5067 - val_accuracy: 0.7590\n",
            "Epoch 29/100\n",
            "63/63 [==============================] - 5s 71ms/step - loss: 0.4883 - accuracy: 0.7650 - val_loss: 0.5840 - val_accuracy: 0.7050\n",
            "Epoch 30/100\n",
            "63/63 [==============================] - 4s 68ms/step - loss: 0.4690 - accuracy: 0.7800 - val_loss: 0.5172 - val_accuracy: 0.7550\n",
            "Epoch 31/100\n",
            "63/63 [==============================] - 5s 79ms/step - loss: 0.4407 - accuracy: 0.7955 - val_loss: 0.4681 - val_accuracy: 0.7690\n",
            "Epoch 32/100\n",
            "63/63 [==============================] - 4s 66ms/step - loss: 0.4463 - accuracy: 0.7900 - val_loss: 0.4994 - val_accuracy: 0.7550\n",
            "Epoch 33/100\n",
            "63/63 [==============================] - 5s 68ms/step - loss: 0.4372 - accuracy: 0.7830 - val_loss: 0.4932 - val_accuracy: 0.7700\n",
            "Epoch 34/100\n",
            "63/63 [==============================] - 5s 75ms/step - loss: 0.4434 - accuracy: 0.7960 - val_loss: 0.4849 - val_accuracy: 0.7700\n",
            "Epoch 35/100\n",
            "63/63 [==============================] - 5s 68ms/step - loss: 0.4210 - accuracy: 0.8035 - val_loss: 0.5461 - val_accuracy: 0.7410\n",
            "Epoch 36/100\n",
            "63/63 [==============================] - 5s 79ms/step - loss: 0.4087 - accuracy: 0.8125 - val_loss: 0.4707 - val_accuracy: 0.7870\n",
            "Epoch 37/100\n",
            "63/63 [==============================] - 4s 67ms/step - loss: 0.4588 - accuracy: 0.7810 - val_loss: 0.4781 - val_accuracy: 0.7700\n",
            "Epoch 38/100\n",
            "63/63 [==============================] - 5s 75ms/step - loss: 0.3899 - accuracy: 0.8325 - val_loss: 0.4939 - val_accuracy: 0.7790\n",
            "Epoch 39/100\n",
            "63/63 [==============================] - 5s 68ms/step - loss: 0.4055 - accuracy: 0.8150 - val_loss: 0.4526 - val_accuracy: 0.8000\n",
            "Epoch 40/100\n",
            "63/63 [==============================] - 4s 68ms/step - loss: 0.3953 - accuracy: 0.8190 - val_loss: 0.4579 - val_accuracy: 0.7930\n",
            "Epoch 41/100\n",
            "63/63 [==============================] - 5s 81ms/step - loss: 0.3760 - accuracy: 0.8335 - val_loss: 0.5039 - val_accuracy: 0.7940\n",
            "Epoch 42/100\n",
            "63/63 [==============================] - 4s 68ms/step - loss: 0.3830 - accuracy: 0.8280 - val_loss: 0.5141 - val_accuracy: 0.7620\n",
            "Epoch 43/100\n",
            "63/63 [==============================] - 5s 79ms/step - loss: 0.3632 - accuracy: 0.8265 - val_loss: 0.4793 - val_accuracy: 0.7960\n",
            "Epoch 44/100\n",
            "63/63 [==============================] - 4s 67ms/step - loss: 0.3720 - accuracy: 0.8355 - val_loss: 0.4691 - val_accuracy: 0.7890\n",
            "Epoch 45/100\n",
            "63/63 [==============================] - 4s 66ms/step - loss: 0.3623 - accuracy: 0.8370 - val_loss: 0.4948 - val_accuracy: 0.7900\n",
            "Epoch 46/100\n",
            "63/63 [==============================] - 5s 78ms/step - loss: 0.3476 - accuracy: 0.8540 - val_loss: 0.4928 - val_accuracy: 0.7870\n",
            "Epoch 47/100\n",
            "63/63 [==============================] - 4s 67ms/step - loss: 0.3517 - accuracy: 0.8425 - val_loss: 0.5639 - val_accuracy: 0.7720\n",
            "Epoch 48/100\n",
            "63/63 [==============================] - 5s 78ms/step - loss: 0.3470 - accuracy: 0.8475 - val_loss: 0.4605 - val_accuracy: 0.8010\n",
            "Epoch 49/100\n",
            "63/63 [==============================] - 5s 68ms/step - loss: 0.3374 - accuracy: 0.8520 - val_loss: 0.4294 - val_accuracy: 0.8180\n",
            "Epoch 50/100\n",
            "63/63 [==============================] - 4s 67ms/step - loss: 0.3161 - accuracy: 0.8615 - val_loss: 0.4793 - val_accuracy: 0.8020\n",
            "Epoch 51/100\n",
            "63/63 [==============================] - 5s 69ms/step - loss: 0.3457 - accuracy: 0.8530 - val_loss: 0.4582 - val_accuracy: 0.8120\n",
            "Epoch 52/100\n",
            "63/63 [==============================] - 4s 67ms/step - loss: 0.2902 - accuracy: 0.8690 - val_loss: 0.4914 - val_accuracy: 0.8120\n",
            "Epoch 53/100\n",
            "63/63 [==============================] - 5s 82ms/step - loss: 0.3085 - accuracy: 0.8690 - val_loss: 0.4640 - val_accuracy: 0.8060\n",
            "Epoch 54/100\n",
            "63/63 [==============================] - 5s 68ms/step - loss: 0.2776 - accuracy: 0.8855 - val_loss: 0.4774 - val_accuracy: 0.8080\n",
            "Epoch 55/100\n",
            "63/63 [==============================] - 6s 90ms/step - loss: 0.2958 - accuracy: 0.8720 - val_loss: 0.5238 - val_accuracy: 0.7850\n",
            "Epoch 56/100\n",
            "63/63 [==============================] - 4s 67ms/step - loss: 0.2764 - accuracy: 0.8835 - val_loss: 0.5360 - val_accuracy: 0.7920\n",
            "Epoch 57/100\n",
            "63/63 [==============================] - 5s 68ms/step - loss: 0.2622 - accuracy: 0.8900 - val_loss: 0.4734 - val_accuracy: 0.8050\n",
            "Epoch 58/100\n",
            "63/63 [==============================] - 5s 82ms/step - loss: 0.2739 - accuracy: 0.8845 - val_loss: 0.4821 - val_accuracy: 0.7980\n",
            "Epoch 59/100\n",
            "63/63 [==============================] - 5s 69ms/step - loss: 0.2715 - accuracy: 0.8900 - val_loss: 0.5111 - val_accuracy: 0.8160\n",
            "Epoch 60/100\n",
            "63/63 [==============================] - 5s 79ms/step - loss: 0.2801 - accuracy: 0.8860 - val_loss: 0.4982 - val_accuracy: 0.8110\n",
            "Epoch 61/100\n",
            "63/63 [==============================] - 5s 69ms/step - loss: 0.2447 - accuracy: 0.9025 - val_loss: 0.4976 - val_accuracy: 0.8170\n",
            "Epoch 62/100\n",
            "63/63 [==============================] - 5s 70ms/step - loss: 0.2259 - accuracy: 0.8970 - val_loss: 0.5800 - val_accuracy: 0.8000\n",
            "Epoch 63/100\n",
            "63/63 [==============================] - 5s 77ms/step - loss: 0.2490 - accuracy: 0.8895 - val_loss: 0.5105 - val_accuracy: 0.8180\n",
            "Epoch 64/100\n",
            "63/63 [==============================] - 5s 68ms/step - loss: 0.2590 - accuracy: 0.8950 - val_loss: 0.5567 - val_accuracy: 0.8020\n",
            "Epoch 65/100\n",
            "63/63 [==============================] - 5s 79ms/step - loss: 0.2473 - accuracy: 0.8945 - val_loss: 0.5091 - val_accuracy: 0.8240\n",
            "Epoch 66/100\n",
            "63/63 [==============================] - 4s 67ms/step - loss: 0.2394 - accuracy: 0.9005 - val_loss: 0.5374 - val_accuracy: 0.8110\n",
            "Epoch 67/100\n",
            "63/63 [==============================] - 5s 70ms/step - loss: 0.2206 - accuracy: 0.9090 - val_loss: 0.5633 - val_accuracy: 0.8300\n",
            "Epoch 68/100\n",
            "63/63 [==============================] - 5s 76ms/step - loss: 0.2364 - accuracy: 0.8980 - val_loss: 0.4961 - val_accuracy: 0.8220\n",
            "Epoch 69/100\n",
            "63/63 [==============================] - 4s 67ms/step - loss: 0.2367 - accuracy: 0.9080 - val_loss: 0.4915 - val_accuracy: 0.8230\n",
            "Epoch 70/100\n",
            "63/63 [==============================] - 5s 79ms/step - loss: 0.2109 - accuracy: 0.9120 - val_loss: 0.5147 - val_accuracy: 0.8230\n",
            "Epoch 71/100\n",
            "63/63 [==============================] - 6s 90ms/step - loss: 0.2011 - accuracy: 0.9110 - val_loss: 0.5558 - val_accuracy: 0.8280\n",
            "Epoch 72/100\n",
            "63/63 [==============================] - 5s 69ms/step - loss: 0.2253 - accuracy: 0.9030 - val_loss: 0.6845 - val_accuracy: 0.7760\n",
            "Epoch 73/100\n",
            "63/63 [==============================] - 6s 92ms/step - loss: 0.2175 - accuracy: 0.9115 - val_loss: 0.6771 - val_accuracy: 0.8070\n",
            "Epoch 74/100\n",
            "63/63 [==============================] - 5s 70ms/step - loss: 0.2259 - accuracy: 0.9100 - val_loss: 0.5008 - val_accuracy: 0.8390\n",
            "Epoch 75/100\n",
            "63/63 [==============================] - 4s 67ms/step - loss: 0.1873 - accuracy: 0.9280 - val_loss: 0.5141 - val_accuracy: 0.8320\n",
            "Epoch 76/100\n",
            "63/63 [==============================] - 5s 69ms/step - loss: 0.1939 - accuracy: 0.9235 - val_loss: 0.5979 - val_accuracy: 0.8180\n",
            "Epoch 77/100\n",
            "63/63 [==============================] - 4s 68ms/step - loss: 0.1900 - accuracy: 0.9220 - val_loss: 0.4938 - val_accuracy: 0.8340\n",
            "Epoch 78/100\n",
            "63/63 [==============================] - 5s 81ms/step - loss: 0.1830 - accuracy: 0.9280 - val_loss: 0.6122 - val_accuracy: 0.8290\n",
            "Epoch 79/100\n",
            "63/63 [==============================] - 5s 80ms/step - loss: 0.1868 - accuracy: 0.9290 - val_loss: 0.6040 - val_accuracy: 0.8390\n",
            "Epoch 80/100\n",
            "63/63 [==============================] - 5s 69ms/step - loss: 0.1990 - accuracy: 0.9225 - val_loss: 0.6146 - val_accuracy: 0.8190\n",
            "Epoch 81/100\n",
            "63/63 [==============================] - 5s 68ms/step - loss: 0.1718 - accuracy: 0.9265 - val_loss: 0.5496 - val_accuracy: 0.8210\n",
            "Epoch 82/100\n",
            "63/63 [==============================] - 5s 79ms/step - loss: 0.1818 - accuracy: 0.9245 - val_loss: 0.7676 - val_accuracy: 0.7970\n",
            "Epoch 83/100\n",
            "63/63 [==============================] - 5s 68ms/step - loss: 0.1610 - accuracy: 0.9305 - val_loss: 0.5504 - val_accuracy: 0.8300\n",
            "Epoch 84/100\n",
            "63/63 [==============================] - 5s 77ms/step - loss: 0.1867 - accuracy: 0.9235 - val_loss: 0.5891 - val_accuracy: 0.8200\n",
            "Epoch 85/100\n",
            "63/63 [==============================] - 4s 68ms/step - loss: 0.1540 - accuracy: 0.9365 - val_loss: 0.9068 - val_accuracy: 0.7970\n",
            "Epoch 86/100\n",
            "63/63 [==============================] - 5s 69ms/step - loss: 0.1840 - accuracy: 0.9280 - val_loss: 0.5448 - val_accuracy: 0.8450\n",
            "Epoch 87/100\n",
            "63/63 [==============================] - 5s 82ms/step - loss: 0.1664 - accuracy: 0.9315 - val_loss: 0.5673 - val_accuracy: 0.8280\n",
            "Epoch 88/100\n",
            "63/63 [==============================] - 4s 67ms/step - loss: 0.1708 - accuracy: 0.9340 - val_loss: 0.5628 - val_accuracy: 0.8390\n",
            "Epoch 89/100\n",
            "63/63 [==============================] - 5s 78ms/step - loss: 0.1608 - accuracy: 0.9360 - val_loss: 0.6612 - val_accuracy: 0.8220\n",
            "Epoch 90/100\n",
            "63/63 [==============================] - 4s 67ms/step - loss: 0.1600 - accuracy: 0.9330 - val_loss: 0.6299 - val_accuracy: 0.8310\n",
            "Epoch 91/100\n",
            "63/63 [==============================] - 6s 91ms/step - loss: 0.1381 - accuracy: 0.9460 - val_loss: 0.6135 - val_accuracy: 0.8220\n",
            "Epoch 92/100\n",
            "63/63 [==============================] - 4s 67ms/step - loss: 0.1464 - accuracy: 0.9395 - val_loss: 0.5440 - val_accuracy: 0.8450\n",
            "Epoch 93/100\n",
            "63/63 [==============================] - 5s 78ms/step - loss: 0.1625 - accuracy: 0.9265 - val_loss: 0.7404 - val_accuracy: 0.8040\n",
            "Epoch 94/100\n",
            "63/63 [==============================] - 5s 78ms/step - loss: 0.1483 - accuracy: 0.9450 - val_loss: 0.6080 - val_accuracy: 0.8330\n",
            "Epoch 95/100\n",
            "63/63 [==============================] - 5s 68ms/step - loss: 0.1394 - accuracy: 0.9500 - val_loss: 0.5676 - val_accuracy: 0.8370\n",
            "Epoch 96/100\n",
            "63/63 [==============================] - 6s 89ms/step - loss: 0.1619 - accuracy: 0.9365 - val_loss: 0.6645 - val_accuracy: 0.8350\n",
            "Epoch 97/100\n",
            "63/63 [==============================] - 5s 68ms/step - loss: 0.1422 - accuracy: 0.9430 - val_loss: 0.7646 - val_accuracy: 0.8100\n",
            "Epoch 98/100\n",
            "63/63 [==============================] - 4s 67ms/step - loss: 0.1386 - accuracy: 0.9480 - val_loss: 0.5917 - val_accuracy: 0.8410\n",
            "Epoch 99/100\n",
            "63/63 [==============================] - 5s 76ms/step - loss: 0.1181 - accuracy: 0.9525 - val_loss: 0.8043 - val_accuracy: 0.8180\n",
            "Epoch 100/100\n",
            "63/63 [==============================] - 4s 67ms/step - loss: 0.1338 - accuracy: 0.9475 - val_loss: 0.5895 - val_accuracy: 0.8390\n"
          ]
        }
      ]
    },
    {
      "cell_type": "code",
      "source": [
        "import matplotlib.pyplot as plt\n",
        "accuracy = history.history[\"accuracy\"]\n",
        "val_accuracy = history.history[\"val_accuracy\"]\n",
        "loss = history.history[\"loss\"]\n",
        "val_loss = history.history[\"val_loss\"]\n",
        "epochs = range(1, len(accuracy) + 1)\n",
        "plt.plot(epochs, accuracy, \"bo\", label=\"Training accuracy\")\n",
        "plt.plot(epochs, val_accuracy, \"b\", label=\"Validation accuracy\")\n",
        "plt.title(\"Training and validation accuracy\")\n",
        "plt.legend()\n",
        "plt.figure()\n",
        "plt.plot(epochs, loss, \"bo\", label=\"Training loss\")\n",
        "plt.plot(epochs, val_loss, \"b\", label=\"Validation loss\")\n",
        "plt.title(\"Training and validation loss\")\n",
        "plt.legend()\n",
        "plt.show()"
      ],
      "metadata": {
        "id": "hT_B0hThM3oO",
        "colab": {
          "base_uri": "https://localhost:8080/",
          "height": 887
        },
        "outputId": "d5584b2b-2ef2-4554-97cd-27bcb0ec14c0"
      },
      "execution_count": 19,
      "outputs": [
        {
          "output_type": "display_data",
          "data": {
            "text/plain": [
              "<Figure size 640x480 with 1 Axes>"
            ],
            "image/png": "[encoded data removed]"
          },
          "metadata": {}
        },
        {
          "output_type": "display_data",
          "data": {
            "text/plain": [
              "<Figure size 640x480 with 1 Axes>"
            ],
            "image/png": "[encoded data removed]"
          },
          "metadata": {}
        }
      ]
    },
    {
      "cell_type": "code",
      "source": [
        "\n",
        "test_model = keras.models.load_model(\n",
        "    \"convnet_from_scratch_with_augmentation.keras\")\n",
        "test_loss, test_acc = test_model.evaluate(test_dataset)\n",
        "print(f\"Test accuracy: {test_acc:.3f}\")"
      ],
      "metadata": {
        "id": "caZHusruM3qg",
        "colab": {
          "base_uri": "https://localhost:8080/"
        },
        "outputId": "0ae0c810-ea73-4c5f-f29d-6bcf4bb7ec62"
      },
      "execution_count": 21,
      "outputs": [
        {
          "output_type": "stream",
          "name": "stdout",
          "text": [
            "32/32 [==============================] - 1s 31ms/step - loss: 0.4952 - accuracy: 0.7910\n",
            "Test accuracy: 0.791\n"
          ]
        }
      ]
    }
  ]
}